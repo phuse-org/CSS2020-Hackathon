{
 "cells": [
  {
   "cell_type": "code",
   "execution_count": 1,
   "metadata": {},
   "outputs": [],
   "source": [
    "from load_specs import load_specification, USECASE_SPEC, AESI_SPEC\n",
    "\n",
    "adsl, cl = load_specification(USECASE_SPEC, \"ADSL\")\n"
   ]
  },
  {
   "cell_type": "code",
   "execution_count": 2,
   "metadata": {},
   "outputs": [
    {
     "data": {
      "text/plain": [
       "<bound method NDFrame.head of       CODELST DATATYPE                                   CODEVAL  RNK  \\\n",
       "0       TREAT     text                               TREATMENT A  1.0   \n",
       "1       TREAT     text                               TREATMENT B  2.0   \n",
       "2      TREATN  integer                                         1  1.0   \n",
       "3      TREATN  integer                                         2  2.0   \n",
       "4        NY_Y     text                                         Y  1.0   \n",
       "..        ...      ...                                       ...  ...   \n",
       "372  PARAM_VS     text                               Weight (kg)  NaN   \n",
       "373  PARAM_VS     text                               Height (cm)  NaN   \n",
       "374  PARAM_VS     text                   Body Mass Index (kg/m2)  NaN   \n",
       "375  PARAM_VS     text                  Waist Circumference (cm)  NaN   \n",
       "376  PARAM_VS     text  Rate Pressure Product (beats/min x mmHg)  NaN   \n",
       "\n",
       "                                        DECOD  \n",
       "0                                 TREATMENT A  \n",
       "1                                 TREATMENT B  \n",
       "2                                 TREATMENT A  \n",
       "3                                 TREATMENT B  \n",
       "4                                         Yes  \n",
       "..                                        ...  \n",
       "372                               Weight (kg)  \n",
       "373                               Height (cm)  \n",
       "374                   Body Mass Index (kg/m2)  \n",
       "375                  Waist Circumference (cm)  \n",
       "376  Rate Pressure Product (beats/min x mmHg)  \n",
       "\n",
       "[377 rows x 5 columns]>"
      ]
     },
     "execution_count": 2,
     "metadata": {},
     "output_type": "execute_result"
    }
   ],
   "source": [
    "cl.head\n"
   ]
  },
  {
   "cell_type": "code",
   "execution_count": 3,
   "metadata": {},
   "outputs": [
    {
     "data": {
      "text/plain": [
       "<bound method NDFrame.head of    Dataset Name Variable Name           Variable Label  Variable Role  \\\n",
       "0          ADSL       STUDYID                      NaN            NaN   \n",
       "1          ADSL       USUBJID                      NaN            NaN   \n",
       "2          ADSL           ARM                      NaN            NaN   \n",
       "3          ADSL         ARMCD                      NaN            NaN   \n",
       "4          ADSL        ACTARM                      NaN            NaN   \n",
       "..          ...           ...                      ...            ...   \n",
       "78         ADSL        EOSSTT      End of Study Status            NaN   \n",
       "79         ADSL        EOTSTT  End of Treatment Status            NaN   \n",
       "80         ADSL        INVNAM                      NaN            NaN   \n",
       "81         ADSL        SITEID                      NaN            NaN   \n",
       "82         ADSL        SUBJID                      NaN            NaN   \n",
       "\n",
       "   Variable Type  Parameter Identifier  Variable Order  Length  Dec Digits  \\\n",
       "0            NaN                   NaN             NaN     NaN         NaN   \n",
       "1            NaN                   NaN             NaN     NaN         NaN   \n",
       "2            NaN                   NaN             NaN     NaN         NaN   \n",
       "3            NaN                   NaN             NaN     NaN         NaN   \n",
       "4            NaN                   NaN             NaN     NaN         NaN   \n",
       "..           ...                   ...             ...     ...         ...   \n",
       "78          text                   NaN             NaN     NaN         NaN   \n",
       "79          text                   NaN             NaN     NaN         NaN   \n",
       "80           NaN                   NaN             NaN     NaN         NaN   \n",
       "81           NaN                   NaN             NaN     NaN         NaN   \n",
       "82           NaN                   NaN             NaN     NaN         NaN   \n",
       "\n",
       "   Display Format Codelist/Controlled Terms         Core  \\\n",
       "0             NaN                       NaN     Required   \n",
       "1             NaN                       NaN     Required   \n",
       "2             NaN                       NaN     Required   \n",
       "3             NaN                       NaN  Permissible   \n",
       "4             NaN                       NaN  Permissible   \n",
       "..            ...                       ...          ...   \n",
       "78            NaN                  SBJTSTAT  Permissible   \n",
       "79            NaN                  SBJTSTAT  Permissible   \n",
       "80            NaN                       NaN  Permissible   \n",
       "81            NaN                       NaN     Required   \n",
       "82            NaN                       NaN     Required   \n",
       "\n",
       "                                    Source/Derivation  \\\n",
       "0                                          DM.STUDYID   \n",
       "1                                          DM.USUBJID   \n",
       "2                                              DM.ARM   \n",
       "3                                            DM.ARMCD   \n",
       "4                                           DM.ACTARM   \n",
       "..                                                ...   \n",
       "78  Trial disposition status (ie, study discontinu...   \n",
       "79  Treatment disposition status (ie, treatment di...   \n",
       "80                                          DM.INVNAM   \n",
       "81                                          DM.SITEID   \n",
       "82                                          DM.SUBJID   \n",
       "\n",
       "   Derived or Copied from Source Variable  \n",
       "0                      Copied from Source  \n",
       "1                      Copied from Source  \n",
       "2                      Copied from Source  \n",
       "3                      Copied from Source  \n",
       "4                      Copied from Source  \n",
       "..                                    ...  \n",
       "78                                Derived  \n",
       "79                                Derived  \n",
       "80                     Copied from Source  \n",
       "81                     Copied from Source  \n",
       "82                     Copied from Source  \n",
       "\n",
       "[83 rows x 14 columns]>"
      ]
     },
     "execution_count": 3,
     "metadata": {},
     "output_type": "execute_result"
    }
   ],
   "source": [
    "adsl.head"
   ]
  },
  {
   "cell_type": "code",
   "execution_count": null,
   "metadata": {},
   "outputs": [],
   "source": []
  },
  {
   "cell_type": "code",
   "execution_count": null,
   "metadata": {},
   "outputs": [],
   "source": []
  }
 ],
 "metadata": {
  "kernelspec": {
   "display_name": "Python 3.7.3",
   "language": "python",
   "name": "py3.7.3"
  },
  "language_info": {
   "codemirror_mode": {
    "name": "ipython",
    "version": 3
   },
   "file_extension": ".py",
   "mimetype": "text/x-python",
   "name": "python",
   "nbconvert_exporter": "python",
   "pygments_lexer": "ipython3",
   "version": "3.7.9"
  }
 },
 "nbformat": 4,
 "nbformat_minor": 4
}
