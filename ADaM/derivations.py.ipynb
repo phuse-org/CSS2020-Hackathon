{
 "cells": [
  {
   "cell_type": "code",
   "execution_count": 16,
   "metadata": {},
   "outputs": [],
   "source": [
    "import json"
   ]
  },
  {
   "cell_type": "code",
   "execution_count": 17,
   "metadata": {},
   "outputs": [],
   "source": [
    "json_file = 'derivations.json'\n",
    "derivations = {}"
   ]
  },
  {
   "cell_type": "code",
   "execution_count": 18,
   "metadata": {},
   "outputs": [],
   "source": [
    "# Sex-Race: \n",
    "derivations['AGE_RACE'] = {'broadcast': ['SEX', 'RACE']}"
   ]
  },
  {
   "cell_type": "code",
   "execution_count": 14,
   "metadata": {},
   "outputs": [],
   "source": [
    "# AGEGR1: Age grouping 18-59, >= 60\n",
    "derivations['AGEGR1'] = {'category': {'source':'AGE', 'bins':[18, 40, 60, 80]}}"
   ]
  },
  {
   "cell_type": "code",
   "execution_count": 8,
   "metadata": {},
   "outputs": [],
   "source": [
    "# RANDFL\n",
    "drv = '''\n",
    "if len( ds[ ds['DSDECOD']=='RANDOMIZED']) > 0: \n",
    "    value = 'Y'\n",
    "else: \n",
    "    value = 'N'\n",
    "'''\n",
    "\n",
    "derivations['RANDFL'] = {'code':drv}              "
   ]
  },
  {
   "cell_type": "code",
   "execution_count": 9,
   "metadata": {},
   "outputs": [],
   "source": [
    "# SAFFL\n",
    "drv = '''\n",
    "value='Not done yet'\n",
    "'''\n",
    "\n",
    "derivations['SAFFL'] = {'derivation':drv}     "
   ]
  },
  {
   "cell_type": "code",
   "execution_count": 19,
   "metadata": {},
   "outputs": [],
   "source": [
    "# Save derivations into a JSON file\n",
    "with open('derivations.json', 'w') as f:\n",
    "    json.dump(derivations, f)"
   ]
  },
  {
   "cell_type": "code",
   "execution_count": null,
   "metadata": {},
   "outputs": [],
   "source": []
  }
 ],
 "metadata": {
  "kernelspec": {
   "display_name": "Python 3.7.3",
   "language": "python",
   "name": "py3.7.3"
  },
  "language_info": {
   "codemirror_mode": {
    "name": "ipython",
    "version": 3
   },
   "file_extension": ".py",
   "mimetype": "text/x-python",
   "name": "python",
   "nbconvert_exporter": "python",
   "pygments_lexer": "ipython3",
   "version": "3.7.9"
  }
 },
 "nbformat": 4,
 "nbformat_minor": 4
}
